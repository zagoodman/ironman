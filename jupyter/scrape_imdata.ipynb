{
 "cells": [
  {
   "cell_type": "markdown",
   "metadata": {
    "toc": true
   },
   "source": [
    "<h1>Table of Contents<span class=\"tocSkip\"></span></h1>\n",
    "<div class=\"toc\"><ul class=\"toc-item\"></ul></div>"
   ]
  },
  {
   "cell_type": "markdown",
   "metadata": {},
   "source": [
    "This code scrapes Ironman finisher data at the athlete level."
   ]
  },
  {
   "cell_type": "code",
   "execution_count": null,
   "metadata": {},
   "outputs": [],
   "source": [
    "import pandas as pd\n",
    "import numpy as np\n",
    "import re\n",
    "import json\n",
    "from lxml import html\n",
    "import requests\n",
    "from bs4 import BeautifulSoup\n",
    "pd.set_option('display.max_columns', 100)"
   ]
  },
  {
   "cell_type": "code",
   "execution_count": null,
   "metadata": {},
   "outputs": [],
   "source": [
    "# define variable names (in order as appear on webpage)\n",
    "\n",
    "dfcolumns = ['athletename', 'athleteid', 'athleteurl', 'bib_n', 'gender', 'division', \\\n",
    "             'divurl', 'konadiv', 'seriesid', 'seriesurl', 'raceid', \\\n",
    "             'raceurl', 'racename', 'raceyear', 'racedate', 'racetype', \\\n",
    "             'konayear', 'konaslots', 'swimtime', 'swimrank', 'swimrankdiv', \\\n",
    "             'swimrankgender', 'biketime', 'bikerank', 'bikerankdiv', \\\n",
    "             'bikerankgender', 'runtime', 'runrank', 'runrankdiv', \\\n",
    "             'runrankgender', 'overalltime', 'overallrank', 'overallrankdiv', \\\n",
    "             'overallrankgender', 'konarankdiv', 'trans1time', 'trans1rank', \\\n",
    "             'trans1rankdiv', 'trans1rankgender', 'trans2time', 'trans2rank', \\\n",
    "             'trans2rankdiv', 'trans2rankgender', 'finish', 'autokonaqual']\n",
    "\n",
    "\n",
    "# define scraping function\n",
    "\n",
    "def get_ath_df(userid):\n",
    "    \"\"\"Returns athlete-race level dataframe\n",
    "    \"\"\"    \n",
    "    print(\"Aquiring data for user: %d       \" % userid, end='\\r')\n",
    "    \n",
    "    # get web response\n",
    "    urlbase = \"https://www.coachcox.co.uk/imstats/athlete/\"\n",
    "    url = urlbase + str(userid)\n",
    "    response = requests.get(url)\n",
    "    html = response.content\n",
    "        \n",
    "    # translate to BeautifulSoup object\n",
    "    soup = BeautifulSoup(html, 'lxml')\n",
    "    \n",
    "    # find athlete data\n",
    "    s = soup.find(\"script\", text=re.compile(r\"var imathleteresultstable\"))\n",
    "    try:\n",
    "        s = s.contents[0]\n",
    "    except:\n",
    "        # no data found, return null\n",
    "        return None\n",
    "    \n",
    "    # within the JS script, find the array with relevant data\n",
    "    start = 'var imathleteresultsdata = '\n",
    "    end = ';'\n",
    "    datastring = s[s.find(start)+len(start):s.find(end)]\n",
    "    \n",
    "    # get athlete name\n",
    "    athletename = soup.find(\"title\").contents[0]\n",
    "    athletename = athletename[13:athletename.find(\" Race Results\")]\n",
    "\n",
    "    # turn data into df and clean/label\n",
    "    data = json.loads(datastring)\n",
    "    dfath = pd.DataFrame(data)\n",
    "    dfath.insert(loc=0, column='athletename', value=athletename)\n",
    "    dfath.columns = dfcolumns\n",
    "    dfath.loc[:,'racedate'] = dfath.racedate.apply(lambda x: x['d'])\n",
    "    #dfath.loc[:,'racedate'] = dfath.racedate.apply(lambda x: dt.strptime(x['d'], \"%d %b %Y\"))\n",
    "\n",
    "    return dfath \n",
    "\n",
    "\n",
    "# demonstrate use for one athlete\n",
    "\n",
    "df = get_ath_df(184495)\n",
    "df.head()"
   ]
  },
  {
   "cell_type": "code",
   "execution_count": null,
   "metadata": {},
   "outputs": [],
   "source": [
    "# get data for a few users and append to one df\n",
    "\n",
    "df_array = []\n",
    "nodata = []\n",
    "\n",
    "for i in range(23786, 23786 + 10):\n",
    "    dfath = get_ath_df(i)\n",
    "    if isinstance(dfath, pd.DataFrame):\n",
    "        df_array.append(dfath)\n",
    "    else:\n",
    "        nodata.append(i)\n",
    "        \n",
    "df_all = pd.concat(df_array, 0)\n",
    "        \n",
    "print(\"\\ndone\\n\")\n",
    "print(\"Total athletes captured: {}\".format(len(df_all.athleteid.unique())))\n",
    "print(\"Total athletes failed: {}\".format(len(nodata)))\n",
    "\n",
    "df_all.head()"
   ]
  }
 ],
 "metadata": {
  "kernelspec": {
   "display_name": "Python 3",
   "language": "python",
   "name": "python3"
  },
  "language_info": {
   "codemirror_mode": {
    "name": "ipython",
    "version": 3
   },
   "file_extension": ".py",
   "mimetype": "text/x-python",
   "name": "python",
   "nbconvert_exporter": "python",
   "pygments_lexer": "ipython3",
   "version": "3.7.9"
  },
  "toc": {
   "base_numbering": 1,
   "nav_menu": {},
   "number_sections": true,
   "sideBar": true,
   "skip_h1_title": true,
   "title_cell": "Table of Contents",
   "title_sidebar": "Contents",
   "toc_cell": true,
   "toc_position": {},
   "toc_section_display": true,
   "toc_window_display": true
  }
 },
 "nbformat": 4,
 "nbformat_minor": 4
}
